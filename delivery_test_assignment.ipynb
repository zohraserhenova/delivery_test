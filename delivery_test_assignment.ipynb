{
  "nbformat": 4,
  "nbformat_minor": 0,
  "metadata": {
    "colab": {
      "provenance": []
    },
    "kernelspec": {
      "name": "python3",
      "display_name": "Python 3"
    },
    "language_info": {
      "name": "python"
    }
  },
  "cells": [
    {
      "cell_type": "markdown",
      "source": [
        "###Тестовое задание от Яндекс Доставки"
      ],
      "metadata": {
        "id": "NHvxfQXyUcrd"
      }
    },
    {
      "cell_type": "code",
      "execution_count": 54,
      "metadata": {
        "colab": {
          "base_uri": "https://localhost:8080/"
        },
        "id": "a2F4ART1TQdl",
        "outputId": "7d6b76e3-8b5f-41cd-b06b-609eec66903e"
      },
      "outputs": [
        {
          "output_type": "stream",
          "name": "stdout",
          "text": [
            "Mounted at /gdrive\n"
          ]
        }
      ],
      "source": [
        "import glob\n",
        "from google.colab import drive\n",
        "drive.mount('/gdrive', force_remount=True)"
      ]
    },
    {
      "cell_type": "code",
      "source": [
        "import pandas as pd\n",
        "import numpy as np\n",
        "from matplotlib import pyplot as plt\n",
        "%matplotlib inline"
      ],
      "metadata": {
        "id": "bMGtL3NZUOuc"
      },
      "execution_count": 55,
      "outputs": []
    },
    {
      "cell_type": "markdown",
      "source": [
        "###Для лучшего восприятия информации загрузим расшифровку колонок"
      ],
      "metadata": {
        "id": "Ak05dtE3VKI7"
      }
    },
    {
      "cell_type": "code",
      "source": [
        "with open(\"/gdrive/My Drive/Yandex_Delivery/column_breakdown.txt\", 'r') as legend:\n",
        "  print(legend.read())"
      ],
      "metadata": {
        "colab": {
          "base_uri": "https://localhost:8080/"
        },
        "id": "6QLIGVPvVH7r",
        "outputId": "1c3a5217-b8fe-42ff-f6a8-cff58f0b8a75"
      },
      "execution_count": 56,
      "outputs": [
        {
          "output_type": "stream",
          "name": "stdout",
          "text": [
            "Расшифровка колонок\n",
            "\n",
            "models.xlsx\n",
            "\n",
            "model - модель авто, например, BMW m3\n",
            "year - год выпуска авто, например, 2020\n",
            "can_be_branded - можно ли брендировать данную модель данного года в действующем классификаторе\n",
            "car_cnt - количество машин данной модели и года в сервисе\n",
            "car_sticker_cnt - количество оклеенных машин данной модели и года в сервисе\n",
            "trips_success_cnt - количество успешных поездок, которые совершили пользователи на данной модели данного года авто за период анализа\n",
            "trips_cancel_cnt - количество отмененных поездок, которые совершили пользователи на данной модели данного года авто за период анализа\n",
            "trips_defect_cnt - количество дефектных поездок (с оценкой меньше 4 из 5), которые совершили пользователи на данной модели данного года авто за период анализа\n",
            "trips_rated_cnt - количество оцененных поездок, которые совершили пользователи на данной модели данного года авто за период анализа\n",
            "bad_car_model_tag_cnt - количество тегов \"не доволен моделью машины\", которые пользователи поставили при отмене поездки\n",
            "dissapointed_car_model_tag_cnt - количество тегов \"не доволен моделью машины\", которые пользователи поставили после успешной поездки при условии оценки ниже 5\n",
            "\n",
            "\n",
            "partners.xlsx\n",
            "\n",
            "partner - партнер сервиса, может быть как водителем, так и таксопарком\n",
            "model - модель авто, например, BMW m3\n",
            "year - год выпуска авто, например, 2020\n",
            "car_cnt - количество машин данной модели и года у данного партнера\n",
            "car_sticker_cnt - количество окленных машин данной модели и года у данного партнера\n"
          ]
        }
      ]
    },
    {
      "cell_type": "markdown",
      "source": [
        "###Ознакомление с данными"
      ],
      "metadata": {
        "id": "Bck812vaW2ay"
      }
    },
    {
      "cell_type": "code",
      "source": [
        "df_models = pd.read_excel(\"/gdrive/My Drive/Yandex_Delivery/models.xlsx\")\n",
        "df_partners = pd.read_excel(\"/gdrive/My Drive/Yandex_Delivery/partners.xlsx\")"
      ],
      "metadata": {
        "id": "OYGAKpvFWjGb"
      },
      "execution_count": 57,
      "outputs": []
    },
    {
      "cell_type": "code",
      "source": [
        "df_models.head()"
      ],
      "metadata": {
        "colab": {
          "base_uri": "https://localhost:8080/",
          "height": 287
        },
        "id": "pS9AuiMMYMCa",
        "outputId": "976dcb18-553a-4122-9bcf-b935a1497fb0"
      },
      "execution_count": 58,
      "outputs": [
        {
          "output_type": "execute_result",
          "data": {
            "text/plain": [
              "   Unnamed: 0      model     year  can_be_branded  car_cnt  car_sticker_cnt  \\\n",
              "0           0  model_207  year_20           False        1                0   \n",
              "1           1  model_482  year_19           False        1                0   \n",
              "2           2  model_499   year_7           False        1                0   \n",
              "3           3  model_499   year_8           False        3                0   \n",
              "4           4  model_499   year_9           False        2                0   \n",
              "\n",
              "   trips_success_cnt  trips_cancel_cnt  trips_defect_cnt  trips_rated_cnt  \\\n",
              "0                 12                 3                 0                5   \n",
              "1                 12                 4                 0                4   \n",
              "2                 46                 1                 0               14   \n",
              "3               1592               198                10              510   \n",
              "4                 49                 8                 0               14   \n",
              "\n",
              "   bad_car_model_tag_cnt  dissapointed_car_model_tag_cnt  \n",
              "0                      0                               0  \n",
              "1                      0                               0  \n",
              "2                      0                               0  \n",
              "3                      5                               1  \n",
              "4                      0                               0  "
            ],
            "text/html": [
              "\n",
              "  <div id=\"df-d7b3c62f-94dd-485e-b540-d888fdb20aee\">\n",
              "    <div class=\"colab-df-container\">\n",
              "      <div>\n",
              "<style scoped>\n",
              "    .dataframe tbody tr th:only-of-type {\n",
              "        vertical-align: middle;\n",
              "    }\n",
              "\n",
              "    .dataframe tbody tr th {\n",
              "        vertical-align: top;\n",
              "    }\n",
              "\n",
              "    .dataframe thead th {\n",
              "        text-align: right;\n",
              "    }\n",
              "</style>\n",
              "<table border=\"1\" class=\"dataframe\">\n",
              "  <thead>\n",
              "    <tr style=\"text-align: right;\">\n",
              "      <th></th>\n",
              "      <th>Unnamed: 0</th>\n",
              "      <th>model</th>\n",
              "      <th>year</th>\n",
              "      <th>can_be_branded</th>\n",
              "      <th>car_cnt</th>\n",
              "      <th>car_sticker_cnt</th>\n",
              "      <th>trips_success_cnt</th>\n",
              "      <th>trips_cancel_cnt</th>\n",
              "      <th>trips_defect_cnt</th>\n",
              "      <th>trips_rated_cnt</th>\n",
              "      <th>bad_car_model_tag_cnt</th>\n",
              "      <th>dissapointed_car_model_tag_cnt</th>\n",
              "    </tr>\n",
              "  </thead>\n",
              "  <tbody>\n",
              "    <tr>\n",
              "      <th>0</th>\n",
              "      <td>0</td>\n",
              "      <td>model_207</td>\n",
              "      <td>year_20</td>\n",
              "      <td>False</td>\n",
              "      <td>1</td>\n",
              "      <td>0</td>\n",
              "      <td>12</td>\n",
              "      <td>3</td>\n",
              "      <td>0</td>\n",
              "      <td>5</td>\n",
              "      <td>0</td>\n",
              "      <td>0</td>\n",
              "    </tr>\n",
              "    <tr>\n",
              "      <th>1</th>\n",
              "      <td>1</td>\n",
              "      <td>model_482</td>\n",
              "      <td>year_19</td>\n",
              "      <td>False</td>\n",
              "      <td>1</td>\n",
              "      <td>0</td>\n",
              "      <td>12</td>\n",
              "      <td>4</td>\n",
              "      <td>0</td>\n",
              "      <td>4</td>\n",
              "      <td>0</td>\n",
              "      <td>0</td>\n",
              "    </tr>\n",
              "    <tr>\n",
              "      <th>2</th>\n",
              "      <td>2</td>\n",
              "      <td>model_499</td>\n",
              "      <td>year_7</td>\n",
              "      <td>False</td>\n",
              "      <td>1</td>\n",
              "      <td>0</td>\n",
              "      <td>46</td>\n",
              "      <td>1</td>\n",
              "      <td>0</td>\n",
              "      <td>14</td>\n",
              "      <td>0</td>\n",
              "      <td>0</td>\n",
              "    </tr>\n",
              "    <tr>\n",
              "      <th>3</th>\n",
              "      <td>3</td>\n",
              "      <td>model_499</td>\n",
              "      <td>year_8</td>\n",
              "      <td>False</td>\n",
              "      <td>3</td>\n",
              "      <td>0</td>\n",
              "      <td>1592</td>\n",
              "      <td>198</td>\n",
              "      <td>10</td>\n",
              "      <td>510</td>\n",
              "      <td>5</td>\n",
              "      <td>1</td>\n",
              "    </tr>\n",
              "    <tr>\n",
              "      <th>4</th>\n",
              "      <td>4</td>\n",
              "      <td>model_499</td>\n",
              "      <td>year_9</td>\n",
              "      <td>False</td>\n",
              "      <td>2</td>\n",
              "      <td>0</td>\n",
              "      <td>49</td>\n",
              "      <td>8</td>\n",
              "      <td>0</td>\n",
              "      <td>14</td>\n",
              "      <td>0</td>\n",
              "      <td>0</td>\n",
              "    </tr>\n",
              "  </tbody>\n",
              "</table>\n",
              "</div>\n",
              "      <button class=\"colab-df-convert\" onclick=\"convertToInteractive('df-d7b3c62f-94dd-485e-b540-d888fdb20aee')\"\n",
              "              title=\"Convert this dataframe to an interactive table.\"\n",
              "              style=\"display:none;\">\n",
              "        \n",
              "  <svg xmlns=\"http://www.w3.org/2000/svg\" height=\"24px\"viewBox=\"0 0 24 24\"\n",
              "       width=\"24px\">\n",
              "    <path d=\"M0 0h24v24H0V0z\" fill=\"none\"/>\n",
              "    <path d=\"M18.56 5.44l.94 2.06.94-2.06 2.06-.94-2.06-.94-.94-2.06-.94 2.06-2.06.94zm-11 1L8.5 8.5l.94-2.06 2.06-.94-2.06-.94L8.5 2.5l-.94 2.06-2.06.94zm10 10l.94 2.06.94-2.06 2.06-.94-2.06-.94-.94-2.06-.94 2.06-2.06.94z\"/><path d=\"M17.41 7.96l-1.37-1.37c-.4-.4-.92-.59-1.43-.59-.52 0-1.04.2-1.43.59L10.3 9.45l-7.72 7.72c-.78.78-.78 2.05 0 2.83L4 21.41c.39.39.9.59 1.41.59.51 0 1.02-.2 1.41-.59l7.78-7.78 2.81-2.81c.8-.78.8-2.07 0-2.86zM5.41 20L4 18.59l7.72-7.72 1.47 1.35L5.41 20z\"/>\n",
              "  </svg>\n",
              "      </button>\n",
              "      \n",
              "  <style>\n",
              "    .colab-df-container {\n",
              "      display:flex;\n",
              "      flex-wrap:wrap;\n",
              "      gap: 12px;\n",
              "    }\n",
              "\n",
              "    .colab-df-convert {\n",
              "      background-color: #E8F0FE;\n",
              "      border: none;\n",
              "      border-radius: 50%;\n",
              "      cursor: pointer;\n",
              "      display: none;\n",
              "      fill: #1967D2;\n",
              "      height: 32px;\n",
              "      padding: 0 0 0 0;\n",
              "      width: 32px;\n",
              "    }\n",
              "\n",
              "    .colab-df-convert:hover {\n",
              "      background-color: #E2EBFA;\n",
              "      box-shadow: 0px 1px 2px rgba(60, 64, 67, 0.3), 0px 1px 3px 1px rgba(60, 64, 67, 0.15);\n",
              "      fill: #174EA6;\n",
              "    }\n",
              "\n",
              "    [theme=dark] .colab-df-convert {\n",
              "      background-color: #3B4455;\n",
              "      fill: #D2E3FC;\n",
              "    }\n",
              "\n",
              "    [theme=dark] .colab-df-convert:hover {\n",
              "      background-color: #434B5C;\n",
              "      box-shadow: 0px 1px 3px 1px rgba(0, 0, 0, 0.15);\n",
              "      filter: drop-shadow(0px 1px 2px rgba(0, 0, 0, 0.3));\n",
              "      fill: #FFFFFF;\n",
              "    }\n",
              "  </style>\n",
              "\n",
              "      <script>\n",
              "        const buttonEl =\n",
              "          document.querySelector('#df-d7b3c62f-94dd-485e-b540-d888fdb20aee button.colab-df-convert');\n",
              "        buttonEl.style.display =\n",
              "          google.colab.kernel.accessAllowed ? 'block' : 'none';\n",
              "\n",
              "        async function convertToInteractive(key) {\n",
              "          const element = document.querySelector('#df-d7b3c62f-94dd-485e-b540-d888fdb20aee');\n",
              "          const dataTable =\n",
              "            await google.colab.kernel.invokeFunction('convertToInteractive',\n",
              "                                                     [key], {});\n",
              "          if (!dataTable) return;\n",
              "\n",
              "          const docLinkHtml = 'Like what you see? Visit the ' +\n",
              "            '<a target=\"_blank\" href=https://colab.research.google.com/notebooks/data_table.ipynb>data table notebook</a>'\n",
              "            + ' to learn more about interactive tables.';\n",
              "          element.innerHTML = '';\n",
              "          dataTable['output_type'] = 'display_data';\n",
              "          await google.colab.output.renderOutput(dataTable, element);\n",
              "          const docLink = document.createElement('div');\n",
              "          docLink.innerHTML = docLinkHtml;\n",
              "          element.appendChild(docLink);\n",
              "        }\n",
              "      </script>\n",
              "    </div>\n",
              "  </div>\n",
              "  "
            ]
          },
          "metadata": {},
          "execution_count": 58
        }
      ]
    },
    {
      "cell_type": "code",
      "source": [
        "df_partners.head()"
      ],
      "metadata": {
        "colab": {
          "base_uri": "https://localhost:8080/",
          "height": 206
        },
        "id": "CkhqM35CYN0P",
        "outputId": "70b06200-7d68-4883-fd9f-da59762a0b00"
      },
      "execution_count": 59,
      "outputs": [
        {
          "output_type": "execute_result",
          "data": {
            "text/plain": [
              "   Unnamed: 0       partner      model     year  car_cnt  car_sticker_cnt\n",
              "0           0  partner_6613  model_147  year_30        1                0\n",
              "1           1  partner_7944  model_615  year_26        1                1\n",
              "2           2  partner_7944  model_576  year_29        1                1\n",
              "3           3  partner_7944  model_576  year_30        1                0\n",
              "4           4  partner_7944  model_362  year_23        1                0"
            ],
            "text/html": [
              "\n",
              "  <div id=\"df-c0c23d2c-49ba-424c-bf5b-7ba60a94882d\">\n",
              "    <div class=\"colab-df-container\">\n",
              "      <div>\n",
              "<style scoped>\n",
              "    .dataframe tbody tr th:only-of-type {\n",
              "        vertical-align: middle;\n",
              "    }\n",
              "\n",
              "    .dataframe tbody tr th {\n",
              "        vertical-align: top;\n",
              "    }\n",
              "\n",
              "    .dataframe thead th {\n",
              "        text-align: right;\n",
              "    }\n",
              "</style>\n",
              "<table border=\"1\" class=\"dataframe\">\n",
              "  <thead>\n",
              "    <tr style=\"text-align: right;\">\n",
              "      <th></th>\n",
              "      <th>Unnamed: 0</th>\n",
              "      <th>partner</th>\n",
              "      <th>model</th>\n",
              "      <th>year</th>\n",
              "      <th>car_cnt</th>\n",
              "      <th>car_sticker_cnt</th>\n",
              "    </tr>\n",
              "  </thead>\n",
              "  <tbody>\n",
              "    <tr>\n",
              "      <th>0</th>\n",
              "      <td>0</td>\n",
              "      <td>partner_6613</td>\n",
              "      <td>model_147</td>\n",
              "      <td>year_30</td>\n",
              "      <td>1</td>\n",
              "      <td>0</td>\n",
              "    </tr>\n",
              "    <tr>\n",
              "      <th>1</th>\n",
              "      <td>1</td>\n",
              "      <td>partner_7944</td>\n",
              "      <td>model_615</td>\n",
              "      <td>year_26</td>\n",
              "      <td>1</td>\n",
              "      <td>1</td>\n",
              "    </tr>\n",
              "    <tr>\n",
              "      <th>2</th>\n",
              "      <td>2</td>\n",
              "      <td>partner_7944</td>\n",
              "      <td>model_576</td>\n",
              "      <td>year_29</td>\n",
              "      <td>1</td>\n",
              "      <td>1</td>\n",
              "    </tr>\n",
              "    <tr>\n",
              "      <th>3</th>\n",
              "      <td>3</td>\n",
              "      <td>partner_7944</td>\n",
              "      <td>model_576</td>\n",
              "      <td>year_30</td>\n",
              "      <td>1</td>\n",
              "      <td>0</td>\n",
              "    </tr>\n",
              "    <tr>\n",
              "      <th>4</th>\n",
              "      <td>4</td>\n",
              "      <td>partner_7944</td>\n",
              "      <td>model_362</td>\n",
              "      <td>year_23</td>\n",
              "      <td>1</td>\n",
              "      <td>0</td>\n",
              "    </tr>\n",
              "  </tbody>\n",
              "</table>\n",
              "</div>\n",
              "      <button class=\"colab-df-convert\" onclick=\"convertToInteractive('df-c0c23d2c-49ba-424c-bf5b-7ba60a94882d')\"\n",
              "              title=\"Convert this dataframe to an interactive table.\"\n",
              "              style=\"display:none;\">\n",
              "        \n",
              "  <svg xmlns=\"http://www.w3.org/2000/svg\" height=\"24px\"viewBox=\"0 0 24 24\"\n",
              "       width=\"24px\">\n",
              "    <path d=\"M0 0h24v24H0V0z\" fill=\"none\"/>\n",
              "    <path d=\"M18.56 5.44l.94 2.06.94-2.06 2.06-.94-2.06-.94-.94-2.06-.94 2.06-2.06.94zm-11 1L8.5 8.5l.94-2.06 2.06-.94-2.06-.94L8.5 2.5l-.94 2.06-2.06.94zm10 10l.94 2.06.94-2.06 2.06-.94-2.06-.94-.94-2.06-.94 2.06-2.06.94z\"/><path d=\"M17.41 7.96l-1.37-1.37c-.4-.4-.92-.59-1.43-.59-.52 0-1.04.2-1.43.59L10.3 9.45l-7.72 7.72c-.78.78-.78 2.05 0 2.83L4 21.41c.39.39.9.59 1.41.59.51 0 1.02-.2 1.41-.59l7.78-7.78 2.81-2.81c.8-.78.8-2.07 0-2.86zM5.41 20L4 18.59l7.72-7.72 1.47 1.35L5.41 20z\"/>\n",
              "  </svg>\n",
              "      </button>\n",
              "      \n",
              "  <style>\n",
              "    .colab-df-container {\n",
              "      display:flex;\n",
              "      flex-wrap:wrap;\n",
              "      gap: 12px;\n",
              "    }\n",
              "\n",
              "    .colab-df-convert {\n",
              "      background-color: #E8F0FE;\n",
              "      border: none;\n",
              "      border-radius: 50%;\n",
              "      cursor: pointer;\n",
              "      display: none;\n",
              "      fill: #1967D2;\n",
              "      height: 32px;\n",
              "      padding: 0 0 0 0;\n",
              "      width: 32px;\n",
              "    }\n",
              "\n",
              "    .colab-df-convert:hover {\n",
              "      background-color: #E2EBFA;\n",
              "      box-shadow: 0px 1px 2px rgba(60, 64, 67, 0.3), 0px 1px 3px 1px rgba(60, 64, 67, 0.15);\n",
              "      fill: #174EA6;\n",
              "    }\n",
              "\n",
              "    [theme=dark] .colab-df-convert {\n",
              "      background-color: #3B4455;\n",
              "      fill: #D2E3FC;\n",
              "    }\n",
              "\n",
              "    [theme=dark] .colab-df-convert:hover {\n",
              "      background-color: #434B5C;\n",
              "      box-shadow: 0px 1px 3px 1px rgba(0, 0, 0, 0.15);\n",
              "      filter: drop-shadow(0px 1px 2px rgba(0, 0, 0, 0.3));\n",
              "      fill: #FFFFFF;\n",
              "    }\n",
              "  </style>\n",
              "\n",
              "      <script>\n",
              "        const buttonEl =\n",
              "          document.querySelector('#df-c0c23d2c-49ba-424c-bf5b-7ba60a94882d button.colab-df-convert');\n",
              "        buttonEl.style.display =\n",
              "          google.colab.kernel.accessAllowed ? 'block' : 'none';\n",
              "\n",
              "        async function convertToInteractive(key) {\n",
              "          const element = document.querySelector('#df-c0c23d2c-49ba-424c-bf5b-7ba60a94882d');\n",
              "          const dataTable =\n",
              "            await google.colab.kernel.invokeFunction('convertToInteractive',\n",
              "                                                     [key], {});\n",
              "          if (!dataTable) return;\n",
              "\n",
              "          const docLinkHtml = 'Like what you see? Visit the ' +\n",
              "            '<a target=\"_blank\" href=https://colab.research.google.com/notebooks/data_table.ipynb>data table notebook</a>'\n",
              "            + ' to learn more about interactive tables.';\n",
              "          element.innerHTML = '';\n",
              "          dataTable['output_type'] = 'display_data';\n",
              "          await google.colab.output.renderOutput(dataTable, element);\n",
              "          const docLink = document.createElement('div');\n",
              "          docLink.innerHTML = docLinkHtml;\n",
              "          element.appendChild(docLink);\n",
              "        }\n",
              "      </script>\n",
              "    </div>\n",
              "  </div>\n",
              "  "
            ]
          },
          "metadata": {},
          "execution_count": 59
        }
      ]
    },
    {
      "cell_type": "code",
      "source": [
        "_, axis = plt.subplots(1, 2, figsize=(15, 5), tight_layout=False)\n",
        "\n",
        "defect_ratio_dist = (df_models['trips_defect_cnt']/df_models['trips_rated_cnt']*100).dropna()\n",
        "bins = axis[0].hist(defect_ratio_dist, bins=50, label='распределение', alpha=0.5)\n",
        "axis[0].vlines(np.percentile(defect_ratio_dist, 95), 0, max(bins[0]), \n",
        "           linestyles =\"dashdot\", colors =\"r\", \n",
        "           label='95% процентиль: {:.2f}'.format(np.percentile(defect_ratio_dist, 95)))\n",
        "axis[0].vlines(np.percentile(defect_ratio_dist, 99), 0, max(bins[0]), \n",
        "           linestyles =\"dashdot\", colors =\"g\", \n",
        "           label='99% процентиль: {:.2f}'.format(np.percentile(defect_ratio_dist, 99)))\n",
        "axis[0].set_xlabel('Коэффициент дефектных поездок (%)')\n",
        "axis[0].legend()\n",
        "axis[0].set_title('Распределение дефектных поездок по всем моделям авто')\n",
        "\n",
        "defect_ratio_dist = (df_models[df_models['can_be_branded']]['trips_defect_cnt']/df_models[\n",
        "            df_models['can_be_branded']]['trips_rated_cnt']*100).dropna()\n",
        "bins = axis[1].hist(defect_ratio_dist, bins=50, label='распределение', alpha=0.5)\n",
        "axis[1].vlines(np.percentile(defect_ratio_dist, 95), 0, max(bins[0]), \n",
        "           linestyles =\"dashdot\", colors =\"r\", \n",
        "           label='95% процентиль: {:.2f}'.format(np.percentile(defect_ratio_dist, 95)))\n",
        "axis[1].vlines(np.percentile(defect_ratio_dist, 99), 0, max(bins[0]), \n",
        "           linestyles =\"dashdot\", colors =\"g\", \n",
        "           label='99% процентиль: {:.2f}'.format(np.percentile(defect_ratio_dist, 99)))\n",
        "axis[1].set_xlabel('Коэффициент дефектных поездок (%)')\n",
        "axis[1].legend()\n",
        "axis[1].set_title('Распределение дефектных поездок по брендированным моделям авто')\n",
        "plt.show()"
      ],
      "metadata": {
        "colab": {
          "base_uri": "https://localhost:8080/",
          "height": 350
        },
        "id": "i_tHQJnjYcOe",
        "outputId": "5ef2b121-7654-4b27-d202-1eb8c3228b60"
      },
      "execution_count": 60,
      "outputs": [
        {
          "output_type": "display_data",
          "data": {
            "text/plain": [
              "<Figure size 1080x360 with 2 Axes>"
            ],
            "image/png": "[encoded data removed]"
          },
          "metadata": {
            "needs_background": "light"
          }
        }
      ]
    },
    {
      "cell_type": "code",
      "source": [
        "branded = df_models[df_models['can_be_branded']]\n",
        "curr_defect_ratio = (branded['trips_defect_cnt']/branded['trips_rated_cnt']).mean()*100\n",
        "curr_share_of_voice = branded['car_sticker_cnt'].sum()/df_models['car_cnt'].sum()*100\n",
        "print('Коэффициент дефектных поездок при новом классификаторе: {:.2f}%'.format(curr_defect_ratio))\n",
        "print('Доля \"рекламного голоса\" при новом классификаторе: {:.2f}%'.format(curr_share_of_voice))"
      ],
      "metadata": {
        "colab": {
          "base_uri": "https://localhost:8080/"
        },
        "id": "K2_yCjF2gFDP",
        "outputId": "ca6232d0-8f93-40e5-b461-2b98ece5c288"
      },
      "execution_count": 61,
      "outputs": [
        {
          "output_type": "stream",
          "name": "stdout",
          "text": [
            "Коэффициент дефектных поездок при новом классификаторе: 2.42%\n",
            "Доля \"рекламного голоса\" при новом классификаторе: 14.04%\n"
          ]
        }
      ]
    },
    {
      "cell_type": "code",
      "source": [
        "df_models['defect_rate%'] = df_models['trips_defect_cnt']/df_models['trips_rated_cnt']*100"
      ],
      "metadata": {
        "id": "ZJ0XGds3hyKu"
      },
      "execution_count": 62,
      "outputs": []
    },
    {
      "cell_type": "code",
      "source": [
        "def cnt_share_of_voice(defect_rate, \n",
        "      motivation = df_models[df_models['can_be_branded']]['car_sticker_cnt'].sum()/df_models[\n",
        "              df_models['can_be_branded']]['car_cnt'].sum(), unstick_olds=False):\n",
        "    if unstick_olds:\n",
        "        branded = df_models[df_models['defect_rate%'] < defect_rate]\n",
        "        share_of_voice = branded['car_cnt'].sum() * motivation / df_models['car_cnt'].sum()*100\n",
        "        return share_of_voice\n",
        "\n",
        "    df_models['branded_tmp'] = (df_models['defect_rate%'] < defect_rate).astype(int)\n",
        "    df_models['branded_tmp'] = (df_models['can_be_branded']).astype(int) + df_models['branded_tmp']\n",
        "    branded = df_models[df_models['branded_tmp'] > 0]\n",
        "    share_of_voice = branded['car_cnt'].sum() * motivation /df_models['car_cnt'].sum()*100\n",
        "    return share_of_voice\n",
        "\n",
        "motivation_level = df_models[df_models['can_be_branded']]['car_sticker_cnt'].sum()/df_models[\n",
        "              df_models['can_be_branded']]['car_cnt'].sum()*100\n",
        "print('Текущий уровень мотивации: {:.2f}%'.format(motivation_level))    "
      ],
      "metadata": {
        "colab": {
          "base_uri": "https://localhost:8080/"
        },
        "id": "uS_Xw0m4iH01",
        "outputId": "a9bd2bd5-8af2-4c38-95c1-305bce65d925"
      },
      "execution_count": 63,
      "outputs": [
        {
          "output_type": "stream",
          "name": "stdout",
          "text": [
            "Текущий уровень мотивации: 17.77%\n"
          ]
        }
      ]
    },
    {
      "cell_type": "code",
      "source": [
        "x = np.linspace(0, 3, 2000)\n",
        "plt.figure(figsize=(16,8))\n",
        "plt.plot(x, [cnt_share_of_voice(dr) for dr in x], \n",
        "         alpha=0.5, label='брендирование при \\n текущем уровне мотивации ({:.2f}%)'.format(\n",
        "             motivation_level\n",
        "         ))\n",
        "plt.plot(x, [cnt_share_of_voice(dr, motivation=0.2) for dr in x], \n",
        "         alpha=0.5, label='уровень мотивации = 20%')\n",
        "plt.plot(x, [cnt_share_of_voice(dr, motivation=0.3, unstick_olds=True) for dr in x], \n",
        "         alpha=0.25, color='m', label='уровень мотивации = 30% и неоклеенные старые авто '.format(\n",
        "             motivation_level))\n",
        "plt.vlines(curr_defect_ratio, 0, 25, \n",
        "           linestyles =\"dashdot\", colors =\"g\", \n",
        "           label=\"Коэффициент дефектных поездок \\n при новом классификаторе: {:.2f}%\".format(curr_defect_ratio))\n",
        "plt.hlines(curr_share_of_voice, 0, 3, \n",
        "           linestyles =\"dashdot\", colors =\"g\", \n",
        "           label=\"Доля '''рекламного голоса''' \\n при новом классификаторе: {:.2f}%\".format(curr_share_of_voice))\n",
        "plt.fill_between([0, curr_defect_ratio], \n",
        "                 curr_share_of_voice, 30, color='g', alpha=0.1)\n",
        "plt.xlabel('Коэффициент дефектных поездок, %')\n",
        "plt.ylabel('Доля \"рекламного голоса\", %')\n",
        "plt.legend()\n",
        "plt.show()"
      ],
      "metadata": {
        "colab": {
          "base_uri": "https://localhost:8080/",
          "height": 497
        },
        "id": "bpBvIB3gkF51",
        "outputId": "56e9e72f-c702-49bc-87a3-20e3f7b3b143"
      },
      "execution_count": 64,
      "outputs": [
        {
          "output_type": "display_data",
          "data": {
            "text/plain": [
              "<Figure size 1152x576 with 1 Axes>"
            ],
            "image/png": "[encoded data removed]"
          },
          "metadata": {
            "needs_background": "light"
          }
        }
      ]
    },
    {
      "cell_type": "code",
      "source": [
        "df_models['branded_tmp'] = list(df_models['defect_rate%'] < 2)\n",
        "df_models['branded_tmp'] = df_models['branded_tmp'] | df_models['can_be_branded']\n",
        "\n",
        "tmp1 = df_partners.groupby('partner').sum().reset_index()\n",
        "tmp = tmp1[tmp1['car_cnt'] > tmp1['car_sticker_cnt']]\n",
        "tmp['left_to_stick'] = tmp['car_cnt'] - tmp['car_sticker_cnt']\n",
        "tmp1= tmp[['partner', 'left_to_stick']] \n",
        "\n",
        "tmp2 = df_partners.merge(df_models,on=['model', 'year'], suffixes=('_ptn', '_mdl'))[\n",
        "      ['partner','model','year', 'car_cnt_ptn', \n",
        "    'car_sticker_cnt_ptn', 'branded_tmp', 'defect_rate%', 'can_be_branded']]\n",
        "tmp2['allowed_to_stick_now'] = tmp2['car_cnt_ptn'] - tmp2['car_sticker_cnt_ptn']\n",
        "tmp2 = tmp2[tmp2['can_be_branded']].groupby('partner').sum()['allowed_to_stick_now'].reset_index()\n",
        "tmp1 = tmp1.merge(tmp2, how='left')\n",
        "\n",
        "tmp2 = df_partners.merge(df_models,on=['model', 'year'], suffixes=('_ptn', '_mdl'))[\n",
        "      ['partner','model','year', 'car_cnt_ptn', \n",
        "    'car_sticker_cnt_ptn', 'branded_tmp', 'defect_rate%', 'can_be_branded']]\n",
        "  \n",
        "tmp2['allowed_to_stick_then'] = tmp2['car_cnt_ptn'] - tmp2['car_sticker_cnt_ptn']\n",
        "tmp2 = tmp2[tmp2['branded_tmp']].groupby('partner').sum()['allowed_to_stick_then'].reset_index()\n",
        "tmp1 = tmp1.merge(tmp2, how='left', on='partner')\n",
        "\n",
        "tmp1 = tmp1.fillna(0)\n",
        "tmp1['satisfied_now'] = tmp1['allowed_to_stick_now']/tmp1['left_to_stick']\n",
        "tmp1['satisfied_then'] = tmp1['allowed_to_stick_then']/tmp1['left_to_stick']"
      ],
      "metadata": {
        "colab": {
          "base_uri": "https://localhost:8080/"
        },
        "id": "K7w-wYlQp8Dl",
        "outputId": "9581e379-7d0f-4b5c-8981-933d23c667ee"
      },
      "execution_count": 65,
      "outputs": [
        {
          "output_type": "stream",
          "name": "stderr",
          "text": [
            "/usr/local/lib/python3.7/dist-packages/ipykernel_launcher.py:6: SettingWithCopyWarning: \n",
            "A value is trying to be set on a copy of a slice from a DataFrame.\n",
            "Try using .loc[row_indexer,col_indexer] = value instead\n",
            "\n",
            "See the caveats in the documentation: https://pandas.pydata.org/pandas-docs/stable/user_guide/indexing.html#returning-a-view-versus-a-copy\n",
            "  \n"
          ]
        }
      ]
    },
    {
      "cell_type": "code",
      "source": [
        "print('Усреднённый показатель удовлетворённости ранее: {:.2f}%'.format(tmp1['satisfied_now'].mean()*100))\n",
        "print('Усреднённый показатель удовлетворённости сейчас: {:.2f}%'.format(tmp1['satisfied_then'].mean()*100))"
      ],
      "metadata": {
        "colab": {
          "base_uri": "https://localhost:8080/"
        },
        "id": "KbqMS56dsVy8",
        "outputId": "a7090b4c-1a99-490d-a05e-79a87ccf2115"
      },
      "execution_count": 66,
      "outputs": [
        {
          "output_type": "stream",
          "name": "stdout",
          "text": [
            "Усреднённый показатель удовлетворённости ранее: 76.77%\n",
            "Усреднённый показатель удовлетворённости сейчас: 83.69%\n"
          ]
        }
      ]
    },
    {
      "cell_type": "code",
      "source": [
        "plt.figure(figsize=(8, 5))\n",
        "plt.hist(tmp1['satisfied_now'], bins=50, alpha=0.3, label='Усреднённый показатель удовлетворённости ранее: 76.77%')\n",
        "plt.hist(tmp1['satisfied_then'], bins=50, alpha=0.3, label='Усреднённый показатель удовлетворённости сейчас: 83.69%')\n",
        "plt.legend()\n",
        "plt.show()"
      ],
      "metadata": {
        "colab": {
          "base_uri": "https://localhost:8080/",
          "height": 320
        },
        "id": "y44rBcsns6vz",
        "outputId": "7e351499-b7db-4404-9bbf-546a6402fbc7"
      },
      "execution_count": 67,
      "outputs": [
        {
          "output_type": "display_data",
          "data": {
            "text/plain": [
              "<Figure size 576x360 with 1 Axes>"
            ],
            "image/png": "[encoded data removed]"
          },
          "metadata": {
            "needs_background": "light"
          }
        }
      ]
    },
    {
      "cell_type": "code",
      "source": [
        "from scipy.stats import wilcoxon\n",
        "wilcoxon(tmp1['satisfied_now'], tmp1['satisfied_then'])"
      ],
      "metadata": {
        "colab": {
          "base_uri": "https://localhost:8080/"
        },
        "id": "bXEzYMYHuLXp",
        "outputId": "8ddc1418-3776-4462-d46b-b4919c67e745"
      },
      "execution_count": 68,
      "outputs": [
        {
          "output_type": "execute_result",
          "data": {
            "text/plain": [
              "WilcoxonResult(statistic=0.0, pvalue=2.0436258313700874e-199)"
            ]
          },
          "metadata": {},
          "execution_count": 68
        }
      ]
    }
  ]
}